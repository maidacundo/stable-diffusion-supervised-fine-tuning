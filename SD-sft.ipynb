{
 "cells": [
  {
   "cell_type": "markdown",
   "metadata": {},
   "source": [
    "### Requirements"
   ]
  },
  {
   "cell_type": "code",
   "execution_count": 3,
   "metadata": {},
   "outputs": [
    {
     "name": "stderr",
     "output_type": "stream",
     "text": [
      "\n",
      "[notice] A new release of pip available: 22.2.1 -> 23.2.1\n",
      "[notice] To update, run: python.exe -m pip install --upgrade pip\n"
     ]
    }
   ],
   "source": [
    "!pip install -q -r requirements.txt"
   ]
  },
  {
   "cell_type": "code",
   "execution_count": 11,
   "metadata": {},
   "outputs": [
    {
     "name": "stdout",
     "output_type": "stream",
     "text": [
      "The autoreload extension is already loaded. To reload it, use:\n",
      "  %reload_ext autoreload\n"
     ]
    }
   ],
   "source": [
    "# reload modules before executing user code\n",
    "%load_ext autoreload\n",
    "%autoreload 2"
   ]
  },
  {
   "cell_type": "code",
   "execution_count": null,
   "metadata": {},
   "outputs": [],
   "source": [
    "from utils import set_random_seed\n",
    "\n",
    "RANDOM_STATE = 42\n",
    "set_random_seed(RANDOM_STATE)"
   ]
  },
  {
   "cell_type": "markdown",
   "metadata": {},
   "source": [
    "### Data & Model"
   ]
  },
  {
   "cell_type": "code",
   "execution_count": 3,
   "metadata": {},
   "outputs": [],
   "source": [
    "from huggingface_hub import hf_hub_download\n",
    "import os\n",
    "\n",
    "if os.path.exists('./checkpoints') == False:\n",
    "    os.mkdir('./checkpoints')\n",
    "\n",
    "vae_path = hf_hub_download(repo_id=\"stabilityai/sd-vae-ft-mse-original\", filename=\"vae-ft-mse-840000-ema-pruned.safetensors\", local_dir='./checkpoints')\n",
    "realisticVision_path = hf_hub_download(repo_id=\"SG161222/Realistic_Vision_V5.1_noVAE\", filename=\"Realistic_Vision_V5.1-inpainting.safetensors\", local_dir='./checkpoints')"
   ]
  },
  {
   "cell_type": "code",
   "execution_count": null,
   "metadata": {},
   "outputs": [],
   "source": [
    "from model import get_models, get_ddim_scheduler\n",
    "text_encoder, vae, unet, tokenizer = get_models(\n",
    "    realisticVision_path,\n",
    "    vae_path,\n",
    "    device=\"cuda:0\",\n",
    "    load_from_safetensor=True,\n",
    ")\n",
    "\n",
    "noise_scheduler = get_ddim_scheduler('stabilityai/stable-diffusion-2-inpainting')"
   ]
  },
  {
   "cell_type": "code",
   "execution_count": 6,
   "metadata": {},
   "outputs": [
    {
     "data": {
      "application/vnd.jupyter.widget-view+json": {
       "model_id": "749b322636d84bf8a03bcc107856c75d",
       "version_major": 2,
       "version_minor": 0
      },
      "text/plain": [
       "Downloading (…)tokenizer/vocab.json:   0%|          | 0.00/1.06M [00:00<?, ?B/s]"
      ]
     },
     "metadata": {},
     "output_type": "display_data"
    },
    {
     "data": {
      "application/vnd.jupyter.widget-view+json": {
       "model_id": "6e7b3bcc20f546fa9b83482ec1ab54dd",
       "version_major": 2,
       "version_minor": 0
      },
      "text/plain": [
       "Downloading (…)tokenizer/merges.txt:   0%|          | 0.00/525k [00:00<?, ?B/s]"
      ]
     },
     "metadata": {},
     "output_type": "display_data"
    },
    {
     "data": {
      "application/vnd.jupyter.widget-view+json": {
       "model_id": "0387a7909cf341e68e57c6ec7b0f44e8",
       "version_major": 2,
       "version_minor": 0
      },
      "text/plain": [
       "Downloading (…)cial_tokens_map.json:   0%|          | 0.00/460 [00:00<?, ?B/s]"
      ]
     },
     "metadata": {},
     "output_type": "display_data"
    },
    {
     "data": {
      "application/vnd.jupyter.widget-view+json": {
       "model_id": "e8d7e3a3e45a40429d42b5b4216a3c9d",
       "version_major": 2,
       "version_minor": 0
      },
      "text/plain": [
       "Downloading (…)okenizer_config.json:   0%|          | 0.00/829 [00:00<?, ?B/s]"
      ]
     },
     "metadata": {},
     "output_type": "display_data"
    }
   ],
   "source": [
    "from transformers import CLIPTextModel, CLIPTokenizer\n",
    "tokenizer = CLIPTokenizer.from_pretrained(\n",
    "    'stabilityai/stable-diffusion-2-inpainting',\n",
    "    subfolder='tokenizer',\n",
    ")"
   ]
  },
  {
   "cell_type": "code",
   "execution_count": 13,
   "metadata": {},
   "outputs": [],
   "source": [
    "from dataset import SFTInpaintDataset\n",
    "\n",
    "TRAIN_PATH = './data/train'\n",
    "train_dataset = SFTInpaintDataset(\n",
    "    TRAIN_PATH,\n",
    "    tokenizer,\n",
    "    global_caption=None,\n",
    "    max_size=768,\n",
    "    resize=True,\n",
    "    normalize=True,\n",
    "    noise_offset=0.1,\n",
    ")\n",
    "\n",
    "EVAL_PATH = './data/eval'\n",
    "eval_dataset = SFTInpaintDataset(\n",
    "    EVAL_PATH,\n",
    "    tokenizer,\n",
    "    global_caption=None,\n",
    "    max_size=768,\n",
    "    resize=True,\n",
    "    normalize=True,\n",
    "    noise_offset=0.1,\n",
    "    seed=RANDOM_STATE,\n",
    ")"
   ]
  },
  {
   "cell_type": "code",
   "execution_count": 14,
   "metadata": {},
   "outputs": [],
   "source": [
    "from dataloader import SFTDataloader\n",
    "\n",
    "train_batch_size = 8\n",
    "eval_batch_size = 8\n",
    "\n",
    "train_dataloader = SFTDataloader(\n",
    "    train_dataset,\n",
    "    tokenizer,\n",
    "    batch_size=train_batch_size,\n",
    "    shuffle=True,\n",
    ")\n",
    "eval_dataloader = SFTDataloader(\n",
    "    eval_dataset,\n",
    "    tokenizer,\n",
    "    batch_size=eval_batch_size,\n",
    "    shuffle=False,\n",
    ")"
   ]
  },
  {
   "cell_type": "code",
   "execution_count": 26,
   "metadata": {},
   "outputs": [
    {
     "name": "stderr",
     "output_type": "stream",
     "text": [
      "Clipping input data to the valid range for imshow with RGB data ([0..1] for floats or [0..255] for integers).\n",
      "Clipping input data to the valid range for imshow with RGB data ([0..1] for floats or [0..255] for integers).\n",
      "Clipping input data to the valid range for imshow with RGB data ([0..1] for floats or [0..255] for integers).\n"
     ]
    },
    {
     "data": {
      "image/png": "[encoded data removed]",
      "text/plain": [
       "<Figure size 1000x1000 with 4 Axes>"
      ]
     },
     "metadata": {},
     "output_type": "display_data"
    }
   ],
   "source": [
    "# plot some images\n",
    "import matplotlib.pyplot as plt\n",
    "import numpy as np\n",
    "\n",
    "batch = next(iter(eval_dataloader))\n",
    "\n",
    "# plot the batch\n",
    "plt.figure(figsize=(10, 10))\n",
    "plt.subplot(1, 4, 1)\n",
    "plt.title(\"pixel_values\")\n",
    "plt.imshow(batch[\"pixel_values\"][1].permute(1, 2, 0))\n",
    "plt.xticks([])\n",
    "plt.yticks([])\n",
    "plt.subplot(1, 4, 2)\n",
    "plt.title(\"masked_image_values\")\n",
    "plt.imshow(batch[\"masked_image_values\"][1].permute(1, 2, 0))\n",
    "plt.xticks([])\n",
    "plt.yticks([])\n",
    "plt.subplot(1, 4, 3)\n",
    "plt.title(\"mask_values\")\n",
    "plt.imshow(batch[\"mask_values\"][1].permute(1, 2, 0))\n",
    "plt.xticks([])\n",
    "plt.yticks([])\n",
    "plt.subplot(1, 4, 4)\n",
    "plt.title(\"mask\")\n",
    "plt.imshow(batch[\"mask\"][1].permute(1, 2, 0))\n",
    "plt.xticks([])\n",
    "plt.yticks([])\n",
    "plt.show()"
   ]
  },
  {
   "cell_type": "code",
   "execution_count": 30,
   "metadata": {},
   "outputs": [
    {
     "data": {
      "text/plain": [
       "torch.Size([8, 3, 512, 512])"
      ]
     },
     "execution_count": 30,
     "metadata": {},
     "output_type": "execute_result"
    }
   ],
   "source": [
    "batch['pixel_values'].shape"
   ]
  },
  {
   "cell_type": "markdown",
   "metadata": {},
   "source": [
    "### Training"
   ]
  },
  {
   "cell_type": "code",
   "execution_count": null,
   "metadata": {},
   "outputs": [],
   "source": [
    "from training import SFTTrainer\n",
    "from types import SimpleNamespace\n",
    "\n",
    "config = SimpleNamespace(\n",
    "    lr= 1e-4,\n",
    "    weight_decay=0.0,\n",
    "    epochs=100,\n",
    "    val_epochs=10,\n",
    ")\n",
    "\n",
    "trainer = SFTTrainer(\n",
    "    unet,\n",
    "    vae,\n",
    "    text_encoder,\n",
    "    noise_scheduler,\n",
    "    train_dataloader,\n",
    "    eval_dataloader,\n",
    "    device=\"cuda:0\",\n",
    ")\n",
    "\n",
    "trainer.print_model_info()"
   ]
  },
  {
   "cell_type": "code",
   "execution_count": null,
   "metadata": {},
   "outputs": [],
   "source": [
    "# require grad for just the unet parameters with attention\n",
    "for name, param in unet.named_parameters():\n",
    "    if \"attentions\" in name:\n",
    "        param.requires_grad = True\n",
    "    else:\n",
    "        param.requires_grad = False\n",
    "        \n",
    "trainer.print_model_info()"
   ]
  },
  {
   "cell_type": "code",
   "execution_count": null,
   "metadata": {},
   "outputs": [],
   "source": [
    "trainer.fit(config)"
   ]
  }
 ],
 "metadata": {
  "kernelspec": {
   "display_name": "Python 3",
   "language": "python",
   "name": "python3"
  },
  "language_info": {
   "codemirror_mode": {
    "name": "ipython",
    "version": 3
   },
   "file_extension": ".py",
   "mimetype": "text/x-python",
   "name": "python",
   "nbconvert_exporter": "python",
   "pygments_lexer": "ipython3",
   "version": "3.10.6"
  },
  "orig_nbformat": 4
 },
 "nbformat": 4,
 "nbformat_minor": 2
}
